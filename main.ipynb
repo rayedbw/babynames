{
 "cells": [
  {
   "cell_type": "code",
   "execution_count": 29,
   "metadata": {},
   "outputs": [],
   "source": [
    "import pandas as pd\n",
    "import torch"
   ]
  },
  {
   "cell_type": "code",
   "execution_count": 30,
   "metadata": {},
   "outputs": [
    {
     "data": {
      "text/html": [
       "<div>\n",
       "<style scoped>\n",
       "    .dataframe tbody tr th:only-of-type {\n",
       "        vertical-align: middle;\n",
       "    }\n",
       "\n",
       "    .dataframe tbody tr th {\n",
       "        vertical-align: top;\n",
       "    }\n",
       "\n",
       "    .dataframe thead th {\n",
       "        text-align: right;\n",
       "    }\n",
       "</style>\n",
       "<table border=\"1\" class=\"dataframe\">\n",
       "  <thead>\n",
       "    <tr style=\"text-align: right;\">\n",
       "      <th></th>\n",
       "      <th>name</th>\n",
       "      <th>meaning</th>\n",
       "      <th>gender</th>\n",
       "      <th>ethnicity</th>\n",
       "    </tr>\n",
       "  </thead>\n",
       "  <tbody>\n",
       "    <tr>\n",
       "      <th>10960</th>\n",
       "      <td>muballigh</td>\n",
       "      <td>To Convey</td>\n",
       "      <td>boy</td>\n",
       "      <td>muslim</td>\n",
       "    </tr>\n",
       "    <tr>\n",
       "      <th>15771</th>\n",
       "      <td>shaheed</td>\n",
       "      <td>The Witness</td>\n",
       "      <td>boy</td>\n",
       "      <td>muslim</td>\n",
       "    </tr>\n",
       "    <tr>\n",
       "      <th>7136</th>\n",
       "      <td>hmiua</td>\n",
       "      <td>Help and support</td>\n",
       "      <td>girl</td>\n",
       "      <td>muslim</td>\n",
       "    </tr>\n",
       "    <tr>\n",
       "      <th>6049</th>\n",
       "      <td>guadalupe</td>\n",
       "      <td>River Of The Wolf, Wolf Valley</td>\n",
       "      <td>girl</td>\n",
       "      <td>muslim</td>\n",
       "    </tr>\n",
       "    <tr>\n",
       "      <th>12927</th>\n",
       "      <td>parvaneh</td>\n",
       "      <td>Butterfly</td>\n",
       "      <td>girl</td>\n",
       "      <td>muslim</td>\n",
       "    </tr>\n",
       "    <tr>\n",
       "      <th>6805</th>\n",
       "      <td>hasif</td>\n",
       "      <td>Firm, Judicious, Steady</td>\n",
       "      <td>boy</td>\n",
       "      <td>muslim</td>\n",
       "    </tr>\n",
       "    <tr>\n",
       "      <th>5773</th>\n",
       "      <td>gharam</td>\n",
       "      <td>Love</td>\n",
       "      <td>boy</td>\n",
       "      <td>muslim</td>\n",
       "    </tr>\n",
       "    <tr>\n",
       "      <th>8882</th>\n",
       "      <td>khakbaar</td>\n",
       "      <td>Dust</td>\n",
       "      <td>girl</td>\n",
       "      <td>muslim</td>\n",
       "    </tr>\n",
       "    <tr>\n",
       "      <th>10262</th>\n",
       "      <td>maqdad</td>\n",
       "      <td>A man named</td>\n",
       "      <td>boy</td>\n",
       "      <td>muslim</td>\n",
       "    </tr>\n",
       "    <tr>\n",
       "      <th>13119</th>\n",
       "      <td>qachar</td>\n",
       "      <td>Ruler</td>\n",
       "      <td>girl</td>\n",
       "      <td>muslim</td>\n",
       "    </tr>\n",
       "  </tbody>\n",
       "</table>\n",
       "</div>"
      ],
      "text/plain": [
       "            name                         meaning gender ethnicity\n",
       "10960  muballigh                       To Convey    boy    muslim\n",
       "15771    shaheed                     The Witness    boy    muslim\n",
       "7136       hmiua                Help and support   girl    muslim\n",
       "6049   guadalupe  River Of The Wolf, Wolf Valley   girl    muslim\n",
       "12927   parvaneh                       Butterfly   girl    muslim\n",
       "6805       hasif         Firm, Judicious, Steady    boy    muslim\n",
       "5773      gharam                            Love    boy    muslim\n",
       "8882    khakbaar                            Dust   girl    muslim\n",
       "10262     maqdad                     A man named    boy    muslim\n",
       "13119     qachar                           Ruler   girl    muslim"
      ]
     },
     "execution_count": 30,
     "metadata": {},
     "output_type": "execute_result"
    }
   ],
   "source": [
    "df = pd.read_json('babynames.jl', lines=True)\n",
    "df.sample(10)"
   ]
  },
  {
   "cell_type": "code",
   "execution_count": 31,
   "metadata": {},
   "outputs": [
    {
     "name": "stdout",
     "output_type": "stream",
     "text": [
      "['a', 'b', 'c', 'd', 'e', 'f', 'g', 'h', 'i', 'j', 'k', 'l', 'm', 'n', 'o', 'p', 'q', 'r', 's', 't', 'u', 'v', 'w', 'x', 'y', 'z']\n"
     ]
    }
   ],
   "source": [
    "letters = sorted(list(set(''.join(df.name.tolist()))))\n",
    "print(letters)"
   ]
  },
  {
   "cell_type": "code",
   "execution_count": 32,
   "metadata": {},
   "outputs": [
    {
     "name": "stdout",
     "output_type": "stream",
     "text": [
      "['<START>', '<END>', '<MALE>', '<FEMALE>', 'a', 'b', 'c', 'd', 'e', 'f', 'g', 'h', 'i', 'j', 'k', 'l', 'm', 'n', 'o', 'p', 'q', 'r', 's', 't', 'u', 'v', 'w', 'x', 'y', 'z'] 30\n"
     ]
    }
   ],
   "source": [
    "START_CHAR = '<START>'\n",
    "END_CHAR = '<END>'\n",
    "MALE_CHAR = '<MALE>'\n",
    "FEMALE_CHAR = '<FEMALE>'\n",
    "\n",
    "VOCAB = [START_CHAR, END_CHAR, MALE_CHAR, FEMALE_CHAR] + letters\n",
    "VOCAB_SIZE = len(VOCAB)\n",
    "EMB_DIM = 4\n",
    "CONTEXT_LENGTH = 4\n",
    "\n",
    "print(VOCAB, len(VOCAB))"
   ]
  },
  {
   "cell_type": "code",
   "execution_count": 33,
   "metadata": {},
   "outputs": [
    {
     "name": "stdout",
     "output_type": "stream",
     "text": [
      "{'<START>': 0, '<END>': 1, '<MALE>': 2, '<FEMALE>': 3, 'a': 4, 'b': 5, 'c': 6, 'd': 7, 'e': 8, 'f': 9, 'g': 10, 'h': 11, 'i': 12, 'j': 13, 'k': 14, 'l': 15, 'm': 16, 'n': 17, 'o': 18, 'p': 19, 'q': 20, 'r': 21, 's': 22, 't': 23, 'u': 24, 'v': 25, 'w': 26, 'x': 27, 'y': 28, 'z': 29}\n",
      "{0: '<START>', 1: '<END>', 2: '<MALE>', 3: '<FEMALE>', 4: 'a', 5: 'b', 6: 'c', 7: 'd', 8: 'e', 9: 'f', 10: 'g', 11: 'h', 12: 'i', 13: 'j', 14: 'k', 15: 'l', 16: 'm', 17: 'n', 18: 'o', 19: 'p', 20: 'q', 21: 'r', 22: 's', 23: 't', 24: 'u', 25: 'v', 26: 'w', 27: 'x', 28: 'y', 29: 'z'}\n"
     ]
    }
   ],
   "source": [
    "ltoi = {l: i for i, l in enumerate(VOCAB)}\n",
    "itol = {i:l for l, i in ltoi.items()} \n",
    "print(ltoi)\n",
    "print(itol)"
   ]
  },
  {
   "cell_type": "code",
   "execution_count": 34,
   "metadata": {},
   "outputs": [],
   "source": [
    "names = df.name.tolist()\n",
    "gender = df.gender.tolist()\n",
    "\n",
    "X,y = [], []\n",
    "for name, gender in zip(names[:5], gender[:5]):\n",
    "    # print(name)\n",
    "    gender = '<MALE>' if gender == 'boy' else '<FEMALE>'\n",
    "    context = [START_CHAR] * (CONTEXT_LENGTH - 1)\n",
    "    for i, letter in enumerate(list(name) + [END_CHAR], 1):\n",
    "        X.append([ltoi[gender]] + [ltoi[c] for c in context])\n",
    "        y.append(ltoi[letter])\n",
    "        # print([gender] + context, ' ---> ', letter)\n",
    "        context = context[1:] + [letter]\n",
    "\n",
    "X = torch.tensor(X)\n",
    "y = torch.tensor(y)"
   ]
  },
  {
   "cell_type": "code",
   "execution_count": 39,
   "metadata": {},
   "outputs": [
    {
     "data": {
      "text/plain": [
       "(tensor([[ 2,  0,  0,  0],\n",
       "         [ 2,  0,  0,  4],\n",
       "         [ 2,  0,  4,  4],\n",
       "         [ 2,  4,  4,  4],\n",
       "         [ 2,  4,  4, 20],\n",
       "         [ 2,  4, 20, 12],\n",
       "         [ 2, 20, 12, 15],\n",
       "         [ 2,  0,  0,  0],\n",
       "         [ 2,  0,  0,  4],\n",
       "         [ 2,  0,  4,  4]]),\n",
       " tensor([ 4,  4,  4, 20, 12, 15,  1,  4,  4,  5]))"
      ]
     },
     "execution_count": 39,
     "metadata": {},
     "output_type": "execute_result"
    }
   ],
   "source": []
  },
  {
   "cell_type": "code",
   "execution_count": null,
   "metadata": {},
   "outputs": [],
   "source": []
  }
 ],
 "metadata": {
  "kernelspec": {
   "display_name": "Python 3.10.6 ('babynames')",
   "language": "python",
   "name": "python3"
  },
  "language_info": {
   "codemirror_mode": {
    "name": "ipython",
    "version": 3
   },
   "file_extension": ".py",
   "mimetype": "text/x-python",
   "name": "python",
   "nbconvert_exporter": "python",
   "pygments_lexer": "ipython3",
   "version": "3.10.6"
  },
  "orig_nbformat": 4,
  "vscode": {
   "interpreter": {
    "hash": "fd8a04f996e8edc200413a7d7036ce51b02af65ba5f785bfbebdda495952b7f5"
   }
  }
 },
 "nbformat": 4,
 "nbformat_minor": 2
}
