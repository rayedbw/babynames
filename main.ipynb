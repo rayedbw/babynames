{
 "cells": [
  {
   "cell_type": "code",
   "execution_count": 1,
   "metadata": {},
   "outputs": [],
   "source": [
    "%matplotlib inline\n",
    "\n",
    "import multiprocessing\n",
    "import pandas as pd\n",
    "from sklearn.model_selection import train_test_split\n",
    "import matplotlib.pyplot as plt\n",
    "import torch\n",
    "import torch.nn as nn\n",
    "import torch.nn.functional as F\n",
    "from torch.utils.data import TensorDataset, DataLoader"
   ]
  },
  {
   "cell_type": "code",
   "execution_count": 2,
   "metadata": {},
   "outputs": [
    {
     "data": {
      "text/html": [
       "<div>\n",
       "<style scoped>\n",
       "    .dataframe tbody tr th:only-of-type {\n",
       "        vertical-align: middle;\n",
       "    }\n",
       "\n",
       "    .dataframe tbody tr th {\n",
       "        vertical-align: top;\n",
       "    }\n",
       "\n",
       "    .dataframe thead th {\n",
       "        text-align: right;\n",
       "    }\n",
       "</style>\n",
       "<table border=\"1\" class=\"dataframe\">\n",
       "  <thead>\n",
       "    <tr style=\"text-align: right;\">\n",
       "      <th></th>\n",
       "      <th>name</th>\n",
       "      <th>meaning</th>\n",
       "      <th>gender</th>\n",
       "      <th>ethnicity</th>\n",
       "    </tr>\n",
       "  </thead>\n",
       "  <tbody>\n",
       "    <tr>\n",
       "      <th>14350</th>\n",
       "      <td>royaa</td>\n",
       "      <td>Dream</td>\n",
       "      <td>girl</td>\n",
       "      <td>muslim</td>\n",
       "    </tr>\n",
       "    <tr>\n",
       "      <th>17755</th>\n",
       "      <td>tohfgee</td>\n",
       "      <td>Goodness</td>\n",
       "      <td>girl</td>\n",
       "      <td>muslim</td>\n",
       "    </tr>\n",
       "    <tr>\n",
       "      <th>18684</th>\n",
       "      <td>yoza</td>\n",
       "      <td>The Grace Of God</td>\n",
       "      <td>boy</td>\n",
       "      <td>muslim</td>\n",
       "    </tr>\n",
       "    <tr>\n",
       "      <th>16506</th>\n",
       "      <td>soheila</td>\n",
       "      <td>Star</td>\n",
       "      <td>girl</td>\n",
       "      <td>muslim</td>\n",
       "    </tr>\n",
       "    <tr>\n",
       "      <th>9413</th>\n",
       "      <td>kuntum</td>\n",
       "      <td>Flower bud\\n</td>\n",
       "      <td>girl</td>\n",
       "      <td>muslim</td>\n",
       "    </tr>\n",
       "    <tr>\n",
       "      <th>2639</th>\n",
       "      <td>azalnaa</td>\n",
       "      <td>Wise</td>\n",
       "      <td>girl</td>\n",
       "      <td>muslim</td>\n",
       "    </tr>\n",
       "    <tr>\n",
       "      <th>8043</th>\n",
       "      <td>jamiyat</td>\n",
       "      <td>Comfort</td>\n",
       "      <td>girl</td>\n",
       "      <td>muslim</td>\n",
       "    </tr>\n",
       "    <tr>\n",
       "      <th>2985</th>\n",
       "      <td>bahiyaa</td>\n",
       "      <td>In Muslim meaning is : Beautiful; Radiant</td>\n",
       "      <td>girl</td>\n",
       "      <td>muslim</td>\n",
       "    </tr>\n",
       "    <tr>\n",
       "      <th>625</th>\n",
       "      <td>absaar</td>\n",
       "      <td>Seeing, Sight</td>\n",
       "      <td>boy</td>\n",
       "      <td>muslim</td>\n",
       "    </tr>\n",
       "    <tr>\n",
       "      <th>6205</th>\n",
       "      <td>haajirah</td>\n",
       "      <td>The wife of Hazrat Ibrahim, peace be upon him.</td>\n",
       "      <td>girl</td>\n",
       "      <td>muslim</td>\n",
       "    </tr>\n",
       "  </tbody>\n",
       "</table>\n",
       "</div>"
      ],
      "text/plain": [
       "           name                                         meaning gender  \\\n",
       "14350     royaa                                           Dream   girl   \n",
       "17755   tohfgee                                        Goodness   girl   \n",
       "18684      yoza                                The Grace Of God    boy   \n",
       "16506   soheila                                            Star   girl   \n",
       "9413     kuntum                                    Flower bud\\n   girl   \n",
       "2639    azalnaa                                            Wise   girl   \n",
       "8043    jamiyat                                         Comfort   girl   \n",
       "2985    bahiyaa       In Muslim meaning is : Beautiful; Radiant   girl   \n",
       "625      absaar                                   Seeing, Sight    boy   \n",
       "6205   haajirah  The wife of Hazrat Ibrahim, peace be upon him.   girl   \n",
       "\n",
       "      ethnicity  \n",
       "14350    muslim  \n",
       "17755    muslim  \n",
       "18684    muslim  \n",
       "16506    muslim  \n",
       "9413     muslim  \n",
       "2639     muslim  \n",
       "8043     muslim  \n",
       "2985     muslim  \n",
       "625      muslim  \n",
       "6205     muslim  "
      ]
     },
     "execution_count": 2,
     "metadata": {},
     "output_type": "execute_result"
    }
   ],
   "source": [
    "df = pd.read_json('babynames.jl', lines=True)\n",
    "df.sample(10)"
   ]
  },
  {
   "cell_type": "code",
   "execution_count": 3,
   "metadata": {},
   "outputs": [
    {
     "name": "stdout",
     "output_type": "stream",
     "text": [
      "['a', 'b', 'c', 'd', 'e', 'f', 'g', 'h', 'i', 'j', 'k', 'l', 'm', 'n', 'o', 'p', 'q', 'r', 's', 't', 'u', 'v', 'w', 'x', 'y', 'z']\n"
     ]
    }
   ],
   "source": [
    "letters = sorted(list(set(''.join(df.name.tolist()))))\n",
    "print(letters)"
   ]
  },
  {
   "cell_type": "code",
   "execution_count": 4,
   "metadata": {},
   "outputs": [
    {
     "name": "stdout",
     "output_type": "stream",
     "text": [
      "['<START>', '<END>', '<MALE>', '<FEMALE>', 'a', 'b', 'c', 'd', 'e', 'f', 'g', 'h', 'i', 'j', 'k', 'l', 'm', 'n', 'o', 'p', 'q', 'r', 's', 't', 'u', 'v', 'w', 'x', 'y', 'z'] 30\n"
     ]
    }
   ],
   "source": [
    "START_CHAR = '<START>'\n",
    "END_CHAR = '<END>'\n",
    "MALE_CHAR = '<MALE>'\n",
    "FEMALE_CHAR = '<FEMALE>'\n",
    "\n",
    "VOCAB = [START_CHAR, END_CHAR, MALE_CHAR, FEMALE_CHAR] + letters\n",
    "VOCAB_SIZE = len(VOCAB)\n",
    "EMB_DIM = 16 \n",
    "CONTEXT_DIM = 4\n",
    "\n",
    "print(VOCAB, len(VOCAB))"
   ]
  },
  {
   "cell_type": "code",
   "execution_count": 5,
   "metadata": {},
   "outputs": [
    {
     "name": "stdout",
     "output_type": "stream",
     "text": [
      "{'<START>': 0, '<END>': 1, '<MALE>': 2, '<FEMALE>': 3, 'a': 4, 'b': 5, 'c': 6, 'd': 7, 'e': 8, 'f': 9, 'g': 10, 'h': 11, 'i': 12, 'j': 13, 'k': 14, 'l': 15, 'm': 16, 'n': 17, 'o': 18, 'p': 19, 'q': 20, 'r': 21, 's': 22, 't': 23, 'u': 24, 'v': 25, 'w': 26, 'x': 27, 'y': 28, 'z': 29}\n",
      "{0: '<START>', 1: '<END>', 2: '<MALE>', 3: '<FEMALE>', 4: 'a', 5: 'b', 6: 'c', 7: 'd', 8: 'e', 9: 'f', 10: 'g', 11: 'h', 12: 'i', 13: 'j', 14: 'k', 15: 'l', 16: 'm', 17: 'n', 18: 'o', 19: 'p', 20: 'q', 21: 'r', 22: 's', 23: 't', 24: 'u', 25: 'v', 26: 'w', 27: 'x', 28: 'y', 29: 'z'}\n"
     ]
    }
   ],
   "source": [
    "ltoi = {l: i for i, l in enumerate(VOCAB)}\n",
    "itol = {i:l for l, i in ltoi.items()} \n",
    "print(ltoi)\n",
    "print(itol)"
   ]
  },
  {
   "cell_type": "code",
   "execution_count": 6,
   "metadata": {},
   "outputs": [
    {
     "name": "stdout",
     "output_type": "stream",
     "text": [
      "143458 143458 4\n"
     ]
    }
   ],
   "source": [
    "names = df.name.tolist()\n",
    "gender = df.gender.tolist()\n",
    "\n",
    "X,y = [], []\n",
    "for name, gender in zip(names, gender):\n",
    "    gender = ltoi['<MALE>' if gender == 'boy' else '<FEMALE>']\n",
    "    context = [ltoi[START_CHAR]] * (CONTEXT_DIM - 1)\n",
    "    for letter in list(name) + [END_CHAR]:\n",
    "        idx = ltoi[letter]\n",
    "        X.append([gender] + context)\n",
    "        y.append(idx)\n",
    "        context = context[1:] + [idx]\n",
    "\n",
    "print(len(X), len(y), len(X[0]))"
   ]
  },
  {
   "cell_type": "code",
   "execution_count": 7,
   "metadata": {},
   "outputs": [],
   "source": [
    "BATCH_SIZE = 64\n",
    "\n",
    "X_train, X_valid, y_train, y_valid = train_test_split(X, y, train_size=0.8, shuffle=True)\n",
    "X_valid, X_test, y_valid, y_test = train_test_split(X_valid, y_valid, train_size=0.8, shuffle=True)\n",
    "\n",
    "X_train = torch.tensor(X_train, dtype=torch.int64)\n",
    "X_valid= torch.tensor(X_valid, dtype=torch.int64)\n",
    "X_test= torch.tensor(X_test, dtype=torch.int64)\n",
    "\n",
    "y_train = torch.tensor(y_train, dtype=torch.int64)\n",
    "y_valid = torch.tensor(y_valid, dtype=torch.int64)\n",
    "y_test = torch.tensor(y_test, dtype=torch.int64)\n",
    "\n",
    "train_ds = TensorDataset(X_train, y_train)\n",
    "valid_ds = TensorDataset(X_valid, y_valid)\n",
    "test_ds = TensorDataset(X_test, y_test)\n",
    "\n",
    "train_dl = DataLoader(train_ds, batch_size=BATCH_SIZE, shuffle=True, num_workers=multiprocessing.cpu_count() // 2, prefetch_factor=2)\n",
    "valid_dl = DataLoader(valid_ds, batch_size=BATCH_SIZE, shuffle=False, num_workers=multiprocessing.cpu_count() // 2, prefetch_factor=2)\n",
    "test_dl = DataLoader(test_ds, batch_size=BATCH_SIZE, shuffle=False, num_workers=multiprocessing.cpu_count() // 2, prefetch_factor=2)"
   ]
  },
  {
   "cell_type": "code",
   "execution_count": 8,
   "metadata": {},
   "outputs": [],
   "source": [
    "class MLP(nn.Module):\n",
    "    \n",
    "\n",
    "    def __init__(self, hidden_dim) -> None:\n",
    "        super().__init__()\n",
    "        self.emb = nn.Embedding(VOCAB_SIZE, EMB_DIM)\n",
    "        self.lstm = nn.LSTM(EMB_DIM, hidden_dim, batch_first=True)\n",
    "        self.flatten = nn.Flatten(start_dim=1)\n",
    "        self.lin1 = nn.Linear(CONTEXT_DIM * hidden_dim, hidden_dim)\n",
    "        self.dropout = nn.Dropout()\n",
    "        self.lin2 = nn.Linear(hidden_dim, VOCAB_SIZE)\n",
    "\n",
    "    def forward(self, x):\n",
    "        x = self.emb(x)\n",
    "        x, _ = self.lstm(x)\n",
    "        x = self.flatten(x)\n",
    "        x = F.relu(self.lin1(x))\n",
    "        x = self.dropout(x)\n",
    "        x = self.lin2(x)\n",
    "        return x"
   ]
  },
  {
   "cell_type": "code",
   "execution_count": 9,
   "metadata": {},
   "outputs": [],
   "source": [
    "from statistics import fmean\n",
    "\n",
    "def fit(model, epochs, loss_func, optimizer, train_dl, valid_dl):\n",
    "    global_losses = []\n",
    "    device = torch.device('cuda') if torch.cuda.is_available() else 'cpu'\n",
    "    for epoch in range(epochs):\n",
    "        losses = [] \n",
    "        model.train()\n",
    "        for step, data in enumerate(train_dl, 1):\n",
    "            X, y = data\n",
    "            X = X.to(device)\n",
    "            y = y.to(device)\n",
    "            y_pred = model(X)\n",
    "            loss = loss_func(y_pred, y)\n",
    "            loss.backward()\n",
    "            optimizer.step()\n",
    "            optimizer.zero_grad()\n",
    "            losses.append(loss.item())\n",
    "            # if step % 500 == 0:\n",
    "            #     print(f'Epoch={epoch + 1} Step={step} Training Loss={fmean(losses):.3f}')\n",
    "            #     losses = []\n",
    "\n",
    "        valid_losses = []\n",
    "        model.eval()\n",
    "        for step, data in enumerate(valid_dl, 1):\n",
    "            X, y = data\n",
    "            X = X.to(device)\n",
    "            y = y.to(device)\n",
    "            with torch.no_grad():\n",
    "                loss = loss_func(model(X), y)\n",
    "            valid_losses.append(loss.item())\n",
    "        print(f'Epoch={epoch + 1} Average Validation Loss={fmean(valid_losses):.3f}')\n",
    "        global_losses.append(fmean(valid_losses))\n",
    "    plt.plot(global_losses)"
   ]
  },
  {
   "cell_type": "code",
   "execution_count": 10,
   "metadata": {},
   "outputs": [],
   "source": [
    "device = torch.device('cuda') if torch.cuda.is_available() else 'cpu'\n",
    "model = MLP(hidden_dim=32)\n",
    "model = model.to(device)  # Send model to GPU before initializing the optimizer\n",
    "loss_func = F.cross_entropy\n",
    "optimizer = torch.optim.Adam(model.parameters())"
   ]
  },
  {
   "cell_type": "code",
   "execution_count": 11,
   "metadata": {},
   "outputs": [
    {
     "name": "stdout",
     "output_type": "stream",
     "text": [
      "Epoch=1 Average Validation Loss=2.260\n",
      "Epoch=2 Average Validation Loss=2.225\n",
      "Epoch=3 Average Validation Loss=2.203\n",
      "Epoch=4 Average Validation Loss=2.193\n",
      "Epoch=5 Average Validation Loss=2.185\n",
      "Epoch=6 Average Validation Loss=2.175\n",
      "Epoch=7 Average Validation Loss=2.170\n",
      "Epoch=8 Average Validation Loss=2.169\n",
      "Epoch=9 Average Validation Loss=2.165\n",
      "Epoch=10 Average Validation Loss=2.163\n",
      "Epoch=11 Average Validation Loss=2.162\n",
      "Epoch=12 Average Validation Loss=2.156\n",
      "Epoch=13 Average Validation Loss=2.154\n",
      "Epoch=14 Average Validation Loss=2.152\n",
      "Epoch=15 Average Validation Loss=2.152\n",
      "Epoch=16 Average Validation Loss=2.152\n",
      "Epoch=17 Average Validation Loss=2.147\n",
      "Epoch=18 Average Validation Loss=2.151\n",
      "Epoch=19 Average Validation Loss=2.149\n",
      "Epoch=20 Average Validation Loss=2.150\n",
      "Epoch=21 Average Validation Loss=2.147\n",
      "Epoch=22 Average Validation Loss=2.144\n",
      "Epoch=23 Average Validation Loss=2.143\n",
      "Epoch=24 Average Validation Loss=2.146\n",
      "Epoch=25 Average Validation Loss=2.142\n",
      "Epoch=26 Average Validation Loss=2.144\n",
      "Epoch=27 Average Validation Loss=2.143\n",
      "Epoch=28 Average Validation Loss=2.143\n",
      "Epoch=29 Average Validation Loss=2.142\n",
      "Epoch=30 Average Validation Loss=2.140\n"
     ]
    },
    {
     "data": {
      "image/png": "[encoded data removed]",
      "text/plain": [
       "<Figure size 640x480 with 1 Axes>"
      ]
     },
     "metadata": {},
     "output_type": "display_data"
    }
   ],
   "source": [
    "fit(model, 30, loss_func, optimizer, train_dl, valid_dl)"
   ]
  },
  {
   "cell_type": "code",
   "execution_count": 14,
   "metadata": {},
   "outputs": [
    {
     "data": {
      "text/plain": [
       "22.533333333333335"
      ]
     },
     "execution_count": 14,
     "metadata": {},
     "output_type": "execute_result"
    }
   ],
   "source": [
    "from statistics import fmean\n",
    "\n",
    "results = []\n",
    "model.eval()\n",
    "for X, y in test_dl:\n",
    "    X = X.to(device)\n",
    "    y = y.to(device)\n",
    "    with torch.no_grad():\n",
    "        y_pred = model(X)\n",
    "    probs = F.softmax(y_pred, dim=1)\n",
    "    _, preds = torch.max(probs, dim=1)    \n",
    "    results.append((preds == y).sum().item())\n",
    "\n",
    "fmean(results)"
   ]
  },
  {
   "cell_type": "code",
   "execution_count": 15,
   "metadata": {},
   "outputs": [
    {
     "name": "stdout",
     "output_type": "stream",
     "text": [
      "['shalihah', 'idra', 'murjah', 'ashiyean', 'ahni', 'dabanfahirelem', 'zeb', 'afba', 'jeriah', 'akhaja', 'hareenah', 'hajeelah', 'jasleelaya', 'hizan', 'yanah', 'salini', 'bashajtyah', 'hakhkahal', 'shirah', 'tahdah', 'daraa', 'rayya', 'afbah', 'burah', 'jamaa', 'fara', 'sah', 'deedah', 'nabizr', 'shosanees', 'zabaz', 'amanda', 'khav', 'seeharzahangeabeen', 'haun', 'hoosherwan', 'haliwa', 'durdet', 'qaleen', 'abaa', 'ibreh', 'ralutsaais', 'tawsureila', 'daleghibah', 'yoteen', 'nanjur', 'dirah', 'lafafina', 'sab', 'hara', 'sutyaasimahl', 'ala', 'sashvela', 'naadha', 'jidah', 'ser', 'mababa', 'onziqah', 'malanun', 'kadli', 'haraoosah', 'faraazsi', 'ishaz', 'jarinulyaara', 'laniat', 'qaarah', 'astehn', 'unma', 'kobshah', 'teht', 'abislah', 'paaheer', 'mesha', 'pavee', 'bah', 'ojaaeeha', 'daiaa', 'aah', 'matibah', 'khat', 'suza', 'nafika', 'taqisa', 'kharah', 'rawya', 'fayas', 'afra', 'qull', 'khan', 'fadmaniah', 'mihahkhazanooz', 'zeeshhayeskusseri', 'saaqeemah', 'ghamfushibah', 'hird', 'pashna', 'nafzaeriah', 'famgeei', 'mobwi', 'wawaisah']\n"
     ]
    }
   ],
   "source": [
    "preds = []\n",
    "model.eval()\n",
    "for i in range(100):\n",
    "    context = [ltoi[START_CHAR]] * (CONTEXT_DIM - 1)\n",
    "    output = ''\n",
    "    while True:\n",
    "        x = [ltoi[FEMALE_CHAR]] + context\n",
    "        x = torch.tensor(x).unsqueeze(0)\n",
    "        x = x.to(device)\n",
    "        with torch.no_grad():\n",
    "            y_pred = model(x)\n",
    "            y_prob = y_pred.exp() / y_pred.exp().sum()\n",
    "        idx = int(torch.multinomial(y_prob, num_samples=1, replacement=True).item())\n",
    "        if idx == ltoi[END_CHAR]:\n",
    "            break\n",
    "        output += itol[idx]\n",
    "        context = context[1:] + [idx]\n",
    "    preds.append(output)    \n",
    "print(preds)"
   ]
  },
  {
   "cell_type": "code",
   "execution_count": null,
   "metadata": {},
   "outputs": [],
   "source": []
  }
 ],
 "metadata": {
  "kernelspec": {
   "display_name": "Python 3.10.6 ('babynames')",
   "language": "python",
   "name": "python3"
  },
  "language_info": {
   "codemirror_mode": {
    "name": "ipython",
    "version": 3
   },
   "file_extension": ".py",
   "mimetype": "text/x-python",
   "name": "python",
   "nbconvert_exporter": "python",
   "pygments_lexer": "ipython3",
   "version": "3.10.6"
  },
  "orig_nbformat": 4,
  "vscode": {
   "interpreter": {
    "hash": "fd8a04f996e8edc200413a7d7036ce51b02af65ba5f785bfbebdda495952b7f5"
   }
  }
 },
 "nbformat": 4,
 "nbformat_minor": 2
}
